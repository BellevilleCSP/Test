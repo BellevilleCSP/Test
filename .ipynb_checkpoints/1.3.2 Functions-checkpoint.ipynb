{
 "cells": [
  {
   "cell_type": "markdown",
   "metadata": {},
   "source": [
    "# Activity 1.3.2 Functions\n",
    "<i> Complete the below activities. Commit the changes to your git account. Create a pull request and send @mrflannelly a comment to let me know that you are ready for a grade.</i>\n",
    "\n",
    "Could you make a program in Scratch™ programming language that will check several websites each day for merchandise on sale, compare the merchandise to artificial intelligence about your taste and price range, and then text you if anything exciting comes along?\n",
    "\n",
    "You could with Python® programming language! If computers can do it, your team can make it happen with Python! From landing a rover on Mars to predicting the weather, Python is a versatile language that can get the job done!\n",
    "\n"
   ]
  },
  {
   "cell_type": "code",
   "execution_count": null,
   "metadata": {
    "collapsed": true
   },
   "outputs": [],
   "source": []
  },
  {
   "cell_type": "markdown",
   "metadata": {
    "canopy_exercise": {
     "cell_type": "question"
    }
   },
   "source": [
    "Python is very powerful because it is easy to incorporate code that other people have already written. These are called modules, and they can be imported from libraries of packages that come with Canopy. Try the following input in the cell below.\n"
   ]
  },
  {
   "cell_type": "code",
   "execution_count": null,
   "metadata": {
    "collapsed": false
   },
   "outputs": [],
   "source": [
    "%matplotlib inline\n",
    "import matplotlib.pyplot as plt\n",
    "from numpy import random\n",
    "\n",
    "a = random.randn(10000)\n",
    "plt.hist(a)\n",
    "plt.show()\n"
   ]
  },
  {
   "cell_type": "code",
   "execution_count": null,
   "metadata": {
    "collapsed": true
   },
   "outputs": [],
   "source": []
  },
  {
   "cell_type": "markdown",
   "metadata": {},
   "source": [
    "You have just made Python pick 10,000 random numbers from a normal distribution (the “Bell” curve) and plot them in a histogram! Before diving into the power that the Python libraries will give you, you'll want to learn the basics of the language. As you begin to learn Python, you’ll recognize some familiar elements from languages that we have used in the past as well as some new ones. After you learn a bit of one text-based programming language, learning other languages is much easier. The difficulties of learning the first one are well worth it. \n",
    "\n",
    "\n",
    "# Part 1: Numeric Types\n",
    "\n",
    "Python session will evaluate expressions, and if you don't tell it to do anything with the expression, IPython will send the result back to you as output. Try adding two integers: <b> 5 +3 </b> in the cell below. "
   ]
  },
  {
   "cell_type": "code",
   "execution_count": null,
   "metadata": {
    "collapsed": false
   },
   "outputs": [],
   "source": [
    "5+3"
   ]
  },
  {
   "cell_type": "markdown",
   "metadata": {},
   "source": [
    "Python can do math."
   ]
  },
  {
   "cell_type": "markdown",
   "metadata": {},
   "source": [
    "Adding two integer types results in an int, which can only represent an integer. It is of type int. A variable is a place in memory to hold data, and a variable’s type says what sort of things the bits in memory represent. The type int is a Python native type, meaning that the data abstraction is built into the language. Some of Python's variable types.\n",
    "\n",
    "| Variable Type        | Represents           | Example Values  |\n",
    "| ------------- |:-------------:| -----:|\n",
    "| int    | integers | 3,5, or -7000 |\n",
    "| float   | any real number      |   3., 5.2, 6.3e-4 |\n",
    "| boolean | True or False      |   True |\n",
    "| str | any characters     |   'hi there' or '2?' |\n",
    "\n",
    "\n",
    "If you put a decimal point in a number, that number is identified as the variable type float, short for floating point representation. Floats have limited precision but can approximate any real number, including integers. Ignore the last few digits if a lot of digits come after the decimal point!\n",
    "``` python\n",
    "In [ ]: 5 + 3. <- Note the decimal point\n",
    "Out[ ]: 8.0\n",
    "```"
   ]
  },
  {
   "cell_type": "markdown",
   "metadata": {},
   "source": [
    "In the following cell try the following inputs in python\n",
    "``` python \n",
    "7*2 and  7*2. and 7/2 and 7/2.\n",
    "```"
   ]
  },
  {
   "cell_type": "code",
   "execution_count": null,
   "metadata": {
    "collapsed": false
   },
   "outputs": [],
   "source": [
    "7/2."
   ]
  },
  {
   "cell_type": "markdown",
   "metadata": {
    "collapsed": false
   },
   "source": [
    "The kind of number that you get when you multiply depends on whether you used ints or floats.\n",
    "\n",
    "Inline comments begin with a #, and each additional comment line must start with a #. A sample explanation is shown here. \n",
    "\n",
    "```python\n",
    "    # 5a. int*int returns an int\n",
    "    # but int*float returns a float\n",
    " ```\n",
    " \n",
    "In the cell below add an inline comment to explain the difference between what the division returns for the line of code\n",
    "\n",
    "```python\n",
    "7/2 and 7/2.\n",
    "```\n"
   ]
  },
  {
   "cell_type": "code",
   "execution_count": null,
   "metadata": {
    "collapsed": false
   },
   "outputs": [],
   "source": [
    "\n"
   ]
  },
  {
   "cell_type": "markdown",
   "metadata": {},
   "source": [
    "You can assign a value to a variable. In the below cell assign the value of 2 to the variable a by typing and running the following code\n",
    "```python\n",
    "a = 2\n",
    "```\n"
   ]
  },
  {
   "cell_type": "code",
   "execution_count": null,
   "metadata": {
    "collapsed": true
   },
   "outputs": [],
   "source": []
  },
  {
   "cell_type": "markdown",
   "metadata": {},
   "source": [
    "Python executes the assignment command, but nothing is returned. Only the state is affected: the variable a is now bound to bits in memory that represent the value 2. When you assign a value to a variable, the variable must be on the left side of the =. It must not be part of an expression like x+1. This is one of the syntax rules for Python. The syntax of a language specifies how the symbols of the language are allowed to be put together.\n",
    "\n",
    "\n",
    "Write code to assign the value 16 to the variable student_age. Get in the practice of annotating your code with comments.\n"
   ]
  },
  {
   "cell_type": "code",
   "execution_count": null,
   "metadata": {
    "collapsed": false
   },
   "outputs": [],
   "source": []
  },
  {
   "cell_type": "markdown",
   "metadata": {},
   "source": [
    "You can evaluate variable expressions:\n",
    "```python\n",
    "In []: a\n",
    "Out[]: 2\n",
    "\n",
    "In []: a * 7 # multiplication\n",
    "Out[]: 14\n",
    "\n",
    "In []: 3 ** 2 # exponentiation\n",
    "Out[]: 9\n",
    "    \n",
    "```\n",
    "\n",
    "In the cell below calculate 23<sup>43</sup> ? The L in the output stands for another native type: long."
   ]
  },
  {
   "cell_type": "code",
   "execution_count": null,
   "metadata": {
    "collapsed": false
   },
   "outputs": [],
   "source": []
  },
  {
   "cell_type": "markdown",
   "metadata": {
    "collapsed": false
   },
   "source": [
    "You can also call existing functions and they will return a value:\n",
    "```python\n",
    "In []: abs(-7) # absolute value function\n",
    "Out[]: 7\n",
    "    \n",
    "```\n",
    "The function abs() is a Python built-in function. A full list of the 80 built-in functions is available at http://docs.python.org/2/library/functions.html .\n",
    "\n",
    "# Function Definitions\n",
    "You can also define your own function. Since that requires more than one line of code. Run the cell below. This will save the function into your python terminal. You won't observe any output, but your code has now defined a new function, binding the function name add_tip() to the code, and adding the function name to the namespace. The namespace is the collection of words that have meaning to the interpreter or compiler. \n"
   ]
  },
  {
   "cell_type": "code",
   "execution_count": null,
   "metadata": {
    "collapsed": false
   },
   "outputs": [],
   "source": [
    "def add_tip(total, tip_percent): \n",
    "    ''' Return the total amount including tip'''\n",
    "    tip = tip_percent*total\n",
    "    return total + tip"
   ]
  },
  {
   "cell_type": "markdown",
   "metadata": {},
   "source": [
    "The keyword def requires a block of code to define a new function. The block begins with the colon at the end of line 1. Lines 2 through 4 are indented four spaces to be part of that block.Python uses indentation. Line 2 begins and ends with '''. Between these sets of three single quotes, all text is commented out, just like the # , except that the commenting can continue over multiple lines. We call this a multi-line comment. When used at the beginning of a function definition, the comment is called a docstring because it can be accessed by a user with the command ``` python help(add_tip). ```\n",
    "\n",
    "Line 3 assigns the value calculated by tip_percent*total to a new variable, tip. Because tip is created within a block of code, it has a local scope. That means that the variable can only be used inside that block.\n",
    "\n",
    "Once a function definition is executed, you can use the function you’ve defined as many times as you wish. As shown in the two examples below, a value returned by a function can be used anywhere the value could have been used.\n",
    "\n",
    "```python \n",
    "In []: a = add_tip(20, 0.15) \n",
    "In []: a\n",
    "Out[]: 23.0\n",
    "In []: add_tip(30, 0.15) \n",
    "Out[]: 34.5\n",
    "```\n",
    "In the cell below call the add_tip function using the code ```python add_tip(30) ``` and write a comment that explains its output."
   ]
  },
  {
   "cell_type": "code",
   "execution_count": null,
   "metadata": {
    "collapsed": false
   },
   "outputs": [],
   "source": [
    "add_tip(50,.20)"
   ]
  },
  {
   "cell_type": "markdown",
   "metadata": {},
   "source": [
    "Complete one or more of the following problems (a, b, and/or c) as directed by your teacher. You can create your functions by continuing the same Python file containing your definition of the add_tip() function. Make sure to strategize before you code, deciding what your algorithm will do. As you pair program, don't forget the steps of the software design process.\n",
    "\n",
    "Normally, functions should validate input arguments. Validating input means checking that the input is what you expect, such as positive numbers for the lengths of a triangle’s sides. Also, testing your code should usually involve writing a test suite, which is a program that does the testing for you. We’ll come back to those ideas. For now, just demonstrate a working function in the cell below. Make sure to add comments.\n",
    "\n",
    "\n",
    "## A. Define a function ```python hyp(leg1, leg2) ``` that returns the length of the hypotenuse of a right triangle.\n",
    "\n",
    "```python\n",
    "Hint: number**0.5 takes the square root of a number. \n",
    "In []:#This is an example of what your output should look like \n",
    "In []: hyp(3,4)\n",
    "Out[]: 5.0\n",
    "```\n",
    "\n",
    "![alt text](https://mathhelpdotmathcrunchdotcom.files.wordpress.com/2016/02/pythag.jpg)\n",
    "\n",
    "\n",
    "## B. Define a function ```python mean(a, b, c) ``` that returns the mean of three numbers.\n",
    "\n",
    "```python\n",
    "\n",
    "Hint: divide by 3.0 to get a float.\n",
    "In []:#This is an example of what your output should look like \n",
    "In []: mean(3,4,7)\n",
    "Out[]: 4.666666666666666721  # ignore float’s last digits!\n",
    "```\n",
    "\n",
    "\n",
    "## C. Define a function ```python perimeter(base, height) ``` that returns the perimeter of a rectangle with side lengths base and height.\n",
    "```python\n",
    "\n",
    "In []: #This is an example of what your output should look like \n",
    "In []: perimeter(3,4)\n",
    "Out[]: 14 \n",
    "```\n"
   ]
  },
  {
   "cell_type": "code",
   "execution_count": null,
   "metadata": {
    "collapsed": true
   },
   "outputs": [],
   "source": []
  },
  {
   "cell_type": "markdown",
   "metadata": {},
   "source": [
    "# Conclusion Questions\n",
    "1. Read the introduction to this activity again. Describe something you would like to have automated by a program.\n",
    "\n",
    "2. What are the native data types you learned about in this activity?\n",
    "\n",
    "3. What are some differences between the command line of the interpretive IPython session and the code editor where you edit a file of code?\n",
    "\n",
    "4. What do you think might be some of the advantages of putting code inside of a function definition?"
   ]
  }
 ],
 "metadata": {
  "kernelspec": {
   "display_name": "Python 2",
   "language": "python",
   "name": "python2"
  },
  "language_info": {
   "codemirror_mode": {
    "name": "ipython",
    "version": 2
   },
   "file_extension": ".py",
   "mimetype": "text/x-python",
   "name": "python",
   "nbconvert_exporter": "python",
   "pygments_lexer": "ipython2",
   "version": "2.7.11"
  }
 },
 "nbformat": 4,
 "nbformat_minor": 0
}
